{
  "nbformat": 4,
  "nbformat_minor": 0,
  "metadata": {
    "colab": {
      "provenance": [],
      "authorship_tag": "ABX9TyOY8kpI4DouW3uBAqxkg9g+",
      "include_colab_link": true
    },
    "kernelspec": {
      "name": "python3",
      "display_name": "Python 3"
    },
    "language_info": {
      "name": "python"
    }
  },
  "cells": [
    {
      "cell_type": "markdown",
      "metadata": {
        "id": "view-in-github",
        "colab_type": "text"
      },
      "source": [
        "<a href=\"https://colab.research.google.com/github/murrma777/Dataset_2_module/blob/main/VK_%D1%81%D0%BA%D1%80%D0%B5%D0%B9%D0%BF%D0%B8%D0%BD%D0%B3.ipynb\" target=\"_parent\"><img src=\"https://colab.research.google.com/assets/colab-badge.svg\" alt=\"Open In Colab\"/></a>"
      ]
    },
    {
      "cell_type": "code",
      "source": [
        "!pip install vk_api"
      ],
      "metadata": {
        "colab": {
          "base_uri": "https://localhost:8080/"
        },
        "id": "kobp6XC-i1hb",
        "outputId": "a6e8ab47-0e92-4e84-df8b-5231a7fbb41a"
      },
      "execution_count": null,
      "outputs": [
        {
          "output_type": "stream",
          "name": "stdout",
          "text": [
            "Collecting vk_api\n",
            "  Downloading vk_api-11.9.9-py3-none-any.whl.metadata (2.0 kB)\n",
            "Requirement already satisfied: requests in /usr/local/lib/python3.10/dist-packages (from vk_api) (2.32.3)\n",
            "Requirement already satisfied: charset-normalizer<4,>=2 in /usr/local/lib/python3.10/dist-packages (from requests->vk_api) (3.4.0)\n",
            "Requirement already satisfied: idna<4,>=2.5 in /usr/local/lib/python3.10/dist-packages (from requests->vk_api) (3.10)\n",
            "Requirement already satisfied: urllib3<3,>=1.21.1 in /usr/local/lib/python3.10/dist-packages (from requests->vk_api) (2.2.3)\n",
            "Requirement already satisfied: certifi>=2017.4.17 in /usr/local/lib/python3.10/dist-packages (from requests->vk_api) (2024.8.30)\n",
            "Downloading vk_api-11.9.9-py3-none-any.whl (48 kB)\n",
            "\u001b[?25l   \u001b[90m━━━━━━━━━━━━━━━━━━━━━━━━━━━━━━━━━━━━━━━━\u001b[0m \u001b[32m0.0/48.6 kB\u001b[0m \u001b[31m?\u001b[0m eta \u001b[36m-:--:--\u001b[0m\r\u001b[2K   \u001b[90m━━━━━━━━━━━━━━━━━━━━━━━━━━━━━━━━━━━━━━━━\u001b[0m \u001b[32m48.6/48.6 kB\u001b[0m \u001b[31m3.2 MB/s\u001b[0m eta \u001b[36m0:00:00\u001b[0m\n",
            "\u001b[?25hInstalling collected packages: vk_api\n",
            "Successfully installed vk_api-11.9.9\n"
          ]
        }
      ]
    },
    {
      "cell_type": "code",
      "execution_count": null,
      "metadata": {
        "colab": {
          "base_uri": "https://localhost:8080/",
          "height": 316
        },
        "id": "_CDBwcu3e1CN",
        "outputId": "67f292c8-8a19-4634-aa48-9c764f65ecbe"
      },
      "outputs": [
        {
          "output_type": "error",
          "ename": "NameError",
          "evalue": "name 'vk' is not defined",
          "traceback": [
            "\u001b[0;31m---------------------------------------------------------------------------\u001b[0m",
            "\u001b[0;31mNameError\u001b[0m                                 Traceback (most recent call last)",
            "\u001b[0;32m<ipython-input-15-1735910a0c00>\u001b[0m in \u001b[0;36m<cell line: 94>\u001b[0;34m()\u001b[0m\n\u001b[1;32m     93\u001b[0m \u001b[0;34m\u001b[0m\u001b[0m\n\u001b[1;32m     94\u001b[0m \u001b[0;32mif\u001b[0m \u001b[0m__name__\u001b[0m \u001b[0;34m==\u001b[0m \u001b[0;34m\"__main__\"\u001b[0m\u001b[0;34m:\u001b[0m\u001b[0;34m\u001b[0m\u001b[0;34m\u001b[0m\u001b[0m\n\u001b[0;32m---> 95\u001b[0;31m     \u001b[0mmain\u001b[0m\u001b[0;34m(\u001b[0m\u001b[0;34m)\u001b[0m\u001b[0;34m\u001b[0m\u001b[0;34m\u001b[0m\u001b[0m\n\u001b[0m",
            "\u001b[0;32m<ipython-input-15-1735910a0c00>\u001b[0m in \u001b[0;36mmain\u001b[0;34m()\u001b[0m\n\u001b[1;32m     79\u001b[0m     \u001b[0;31m# Запустите функцию для скрейпинга\u001b[0m\u001b[0;34m\u001b[0m\u001b[0;34m\u001b[0m\u001b[0m\n\u001b[1;32m     80\u001b[0m     \u001b[0;31m### ваш код здесь ###\u001b[0m\u001b[0;34m\u001b[0m\u001b[0;34m\u001b[0m\u001b[0m\n\u001b[0;32m---> 81\u001b[0;31m     \u001b[0mresult\u001b[0m \u001b[0;34m=\u001b[0m \u001b[0mscrape_wall_data\u001b[0m\u001b[0;34m(\u001b[0m\u001b[0mtoken\u001b[0m\u001b[0;34m,\u001b[0m \u001b[0mowner_id\u001b[0m\u001b[0;34m,\u001b[0m \u001b[0mcount\u001b[0m\u001b[0;34m=\u001b[0m\u001b[0;36m10\u001b[0m\u001b[0;34m)\u001b[0m\u001b[0;34m\u001b[0m\u001b[0;34m\u001b[0m\u001b[0m\n\u001b[0m\u001b[1;32m     82\u001b[0m \u001b[0;34m\u001b[0m\u001b[0m\n\u001b[1;32m     83\u001b[0m     \u001b[0;32mif\u001b[0m \u001b[0mwall_data\u001b[0m\u001b[0;34m:\u001b[0m\u001b[0;34m\u001b[0m\u001b[0;34m\u001b[0m\u001b[0m\n",
            "\u001b[0;32m<ipython-input-15-1735910a0c00>\u001b[0m in \u001b[0;36mscrape_wall_data\u001b[0;34m(token, owner_id, count)\u001b[0m\n\u001b[1;32m     22\u001b[0m         \u001b[0;31m# Метод wall.get\u001b[0m\u001b[0;34m\u001b[0m\u001b[0;34m\u001b[0m\u001b[0m\n\u001b[1;32m     23\u001b[0m         \u001b[0;31m# owner_id = -10501303\u001b[0m\u001b[0;34m\u001b[0m\u001b[0;34m\u001b[0m\u001b[0m\n\u001b[0;32m---> 24\u001b[0;31m         \u001b[0mposts\u001b[0m \u001b[0;34m=\u001b[0m \u001b[0mvk\u001b[0m\u001b[0;34m.\u001b[0m\u001b[0mwall\u001b[0m\u001b[0;34m.\u001b[0m\u001b[0mget\u001b[0m\u001b[0;34m(\u001b[0m\u001b[0mowner_id\u001b[0m\u001b[0;34m=\u001b[0m\u001b[0;34m-\u001b[0m\u001b[0;36m10501303\u001b[0m\u001b[0;34m,\u001b[0m \u001b[0mcount\u001b[0m\u001b[0;34m=\u001b[0m\u001b[0;36m50\u001b[0m\u001b[0;34m)\u001b[0m\u001b[0;34m[\u001b[0m\u001b[0;34m'items'\u001b[0m\u001b[0;34m]\u001b[0m\u001b[0;34m\u001b[0m\u001b[0;34m\u001b[0m\u001b[0m\n\u001b[0m\u001b[1;32m     25\u001b[0m \u001b[0;34m\u001b[0m\u001b[0m\n\u001b[1;32m     26\u001b[0m         \u001b[0;31m# Хранилище для данных\u001b[0m\u001b[0;34m\u001b[0m\u001b[0;34m\u001b[0m\u001b[0m\n",
            "\u001b[0;31mNameError\u001b[0m: name 'vk' is not defined"
          ]
        }
      ],
      "source": [
        "import vk_api\n",
        "import csv\n",
        "import pandas as pd\n",
        "\n",
        "def scrape_wall_data(token, owner_id, count=10):\n",
        "    \"\"\"\n",
        "    Опишите здесь, что делает ваша функция.\n",
        "    Функция скрейпит стену сообщества, т.е. извлекает из нее то, что нам нужно.\n",
        "    Какие аргументы она принимает?\n",
        "    На вход принимает токен пользователя, ID сообщества и кол-во постов, которые нужно вывести.\n",
        "    Что она возвращает?\n",
        "    Если на стене есть записи, возвращает статистику по выгруженной информации, сохраняет информацию в файл.\n",
        "    В ином случае возвращает запись \"No Data\".\n",
        "    ...\n",
        "    Дополните комментарии к коду, разъясняющие работу функции.\n",
        "    \"\"\"\n",
        "    try:\n",
        "        # Инициализация VK API\n",
        "        vk_session = vk_api.VkApi(token='vk1.a.tbUu6i5hjkVgPYyY3hU4NxA8fXRWPk7ekKxe4_EOMqf-HaWJUU2HTT4UYA7wa3fU1Wc62snbAZhIgMAluqeFpaq0vFyTeTtCZAEuweN_UcqPHqVM2eNvGO93N-_2kB8uMeye9xT58Y46NHgM8x98sGEKkId_6uhrIW0CFcaBKTW9F02Kw9SSM-E0TVg4YsE-j-Uxj2Z2JpwEvCuqhYVW6A')\n",
        "        # Токен\n",
        "\n",
        "        # Метод wall.get\n",
        "        # owner_id = -10501303\n",
        "        posts = vk.wall.get(owner_id=-10501303, count=50)['items']\n",
        "\n",
        "        # Хранилище для данных\n",
        "        scraped_data = []\n",
        "\n",
        "        # Парсинг\n",
        "        for post in posts:\n",
        "            post_data = {\n",
        "                'post_id': post['id'],\n",
        "                'post_text': post['text'],\n",
        "                'post_img': post['img'],\n",
        "                'post_view': post['view']\n",
        "                ### здесь дополните информацию: иллюстрации, текст публикации, стата... ###\n",
        "            }\n",
        "            scraped_data.append(post_data)\n",
        "\n",
        "        return scraped_data\n",
        "\n",
        "    except vk_api.exceptions.ApiError as e:\n",
        "        print(f\"Error accessing VK API: {e}\")\n",
        "        return []\n",
        "\n",
        "# Допишите функцию для сохранения *.csv\n",
        "def save_to_csv(data, file_name='vk_wall_posts.csv'):\n",
        "    with open(file_name, mode='w', newline='', encoding='utf-8') as file:\n",
        "        writer = csv.DictWriter(file, fieldnames=['post_id', 'post_text', 'post_img', 'post_view']) ### здесь укажите ключи из post_data ###\n",
        "        writer.writeheader()\n",
        "        for row in data:\n",
        "            writer.writerow(row)\n",
        "\n",
        "def stats():\n",
        "    d = pd.read_csv('vk_wall_posts.csv')\n",
        "    print(d.head())\n",
        "    print(d.describe())\n",
        "    # Напишите функцию для описания ваших данных:\n",
        "    # выведите часть данных с помощью pandas\n",
        "    # сделайте визуализацию собранной статистики\n",
        "    d['column_name'].hist()\n",
        "    plt.title('Histogram of column_name')\n",
        "    plt.xlabel('Value')\n",
        "    plt.ylabel('Frequency')\n",
        "    plt.show()\n",
        "    pass\n",
        "\n",
        "# Функция для выполнения задачи\n",
        "def main():\n",
        "    # Введите ваш токен VK API\n",
        "    token = 'vk1.a.tbUu6i5hjkVgPYyY3hU4NxA8fXRWPk7ekKxe4_EOMqf-HaWJUU2HTT4UYA7wa3fU1Wc62snbAZhIgMAluqeFpaq0vFyTeTtCZAEuweN_UcqPHqVM2eNvGO93N-_2kB8uMeye9xT58Y46NHgM8x98sGEKkId_6uhrIW0CFcaBKTW9F02Kw9SSM-E0TVg4YsE-j-Uxj2Z2JpwEvCuqhYVW6A'\n",
        "\n",
        "    # Введите ID сообщества\n",
        "    owner_id = -10501303\n",
        "\n",
        "    # Введите количество публикаций для скрейпинга\n",
        "    num_posts = 50\n",
        "\n",
        "    # Запустите функцию для скрейпинга\n",
        "    ### ваш код здесь ###\n",
        "    result = scrape_wall_data(token, owner_id, count=10)\n",
        "\n",
        "    if wall_data:\n",
        "      # Запустите функцию для сохранения *.csv\n",
        "      save_to_csv(wall_data, 'vk_wall_posts.csv')\n",
        "    # Выведите статистику по выгруженной информации\n",
        "      stats = pd.read_csv('wall_data.csv')\n",
        "      print(stats.describe())  # выводим статистику по данным\n",
        "      print(stats.head())\n",
        "\n",
        "    else:\n",
        "        print(\"No data\")\n",
        "\n",
        "if __name__ == \"__main__\":\n",
        "    main()"
      ]
    }
  ]
}